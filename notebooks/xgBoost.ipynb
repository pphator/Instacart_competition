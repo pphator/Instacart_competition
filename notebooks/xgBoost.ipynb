{
 "cells": [
  {
   "cell_type": "code",
   "execution_count": 1,
   "id": "c2dd1fde",
   "metadata": {},
   "outputs": [],
   "source": [
    "import xgboost as xgb"
   ]
  },
  {
   "cell_type": "code",
   "execution_count": 2,
   "id": "b1ff2c92",
   "metadata": {},
   "outputs": [],
   "source": [
    "import pandas as pd"
   ]
  },
  {
   "cell_type": "code",
   "execution_count": 3,
   "id": "49de6939",
   "metadata": {},
   "outputs": [],
   "source": [
    "import numpy as np\n",
    "from sklearn.metrics import f1_score, precision_score, recall_score, roc_auc_score\n",
    "from sklearn.model_selection import train_test_split\n",
    "from sklearn.ensemble import GradientBoostingClassifier\n",
    "from sklearn.metrics import roc_curve\n",
    "from matplotlib import pyplot as plt\n",
    "import seaborn as sns\n",
    "from sklearn.model_selection import GridSearchCV, RandomizedSearchCV\n",
    "from sklearn.model_selection import StratifiedKFold"
   ]
  },
  {
   "cell_type": "code",
   "execution_count": 4,
   "id": "69cf16f4",
   "metadata": {},
   "outputs": [],
   "source": [
    "from scipy import stats\n",
    "from scipy.stats import randint"
   ]
  },
  {
   "cell_type": "code",
   "execution_count": 5,
   "id": "9b38303d",
   "metadata": {},
   "outputs": [],
   "source": [
    "data_path = '..\\\\data\\\\'"
   ]
  },
  {
   "cell_type": "code",
   "execution_count": 6,
   "id": "a7025515",
   "metadata": {},
   "outputs": [],
   "source": [
    "dataset = pd.read_csv(data_path + 'train_val_dataset.csv')"
   ]
  },
  {
   "cell_type": "code",
   "execution_count": 7,
   "id": "6ba64f85",
   "metadata": {},
   "outputs": [
    {
     "name": "stdout",
     "output_type": "stream",
     "text": [
      "<class 'pandas.core.frame.DataFrame'>\n",
      "RangeIndex: 8474661 entries, 0 to 8474660\n",
      "Data columns (total 11 columns):\n",
      " #   Column                 Non-Null Count    Dtype  \n",
      "---  ------                 --------------    -----  \n",
      " 0   user_id                8474661 non-null  int64  \n",
      " 1   product_id             8474661 non-null  int64  \n",
      " 2   ipu_total_bought       8474661 non-null  int64  \n",
      " 3   uxp_reorder_ratio      8474661 non-null  float64\n",
      " 4   times_last5            8474661 non-null  float64\n",
      " 5   u_total_orders         8474661 non-null  int64  \n",
      " 6   u_reordered_ratio      8474661 non-null  float64\n",
      " 7   last_order_size        8474661 non-null  int64  \n",
      " 8   items_total_purchases  8474661 non-null  int64  \n",
      " 9   items_reorder_ratio    8474661 non-null  float64\n",
      " 10  reordered              8474661 non-null  float64\n",
      "dtypes: float64(5), int64(6)\n",
      "memory usage: 711.2 MB\n"
     ]
    }
   ],
   "source": [
    "dataset.info(show_counts=True)"
   ]
  },
  {
   "cell_type": "code",
   "execution_count": 8,
   "id": "e45c66c5",
   "metadata": {},
   "outputs": [
    {
     "data": {
      "text/html": [
       "<div>\n",
       "<style scoped>\n",
       "    .dataframe tbody tr th:only-of-type {\n",
       "        vertical-align: middle;\n",
       "    }\n",
       "\n",
       "    .dataframe tbody tr th {\n",
       "        vertical-align: top;\n",
       "    }\n",
       "\n",
       "    .dataframe thead th {\n",
       "        text-align: right;\n",
       "    }\n",
       "</style>\n",
       "<table border=\"1\" class=\"dataframe\">\n",
       "  <thead>\n",
       "    <tr style=\"text-align: right;\">\n",
       "      <th></th>\n",
       "      <th>user_id</th>\n",
       "      <th>product_id</th>\n",
       "      <th>ipu_total_bought</th>\n",
       "      <th>uxp_reorder_ratio</th>\n",
       "      <th>times_last5</th>\n",
       "      <th>u_total_orders</th>\n",
       "      <th>u_reordered_ratio</th>\n",
       "      <th>last_order_size</th>\n",
       "      <th>items_total_purchases</th>\n",
       "      <th>items_reorder_ratio</th>\n",
       "      <th>reordered</th>\n",
       "    </tr>\n",
       "  </thead>\n",
       "  <tbody>\n",
       "    <tr>\n",
       "      <th>0</th>\n",
       "      <td>1</td>\n",
       "      <td>196</td>\n",
       "      <td>10</td>\n",
       "      <td>1.000000</td>\n",
       "      <td>5.0</td>\n",
       "      <td>10</td>\n",
       "      <td>0.694915</td>\n",
       "      <td>9</td>\n",
       "      <td>35791</td>\n",
       "      <td>0.776480</td>\n",
       "      <td>1.0</td>\n",
       "    </tr>\n",
       "    <tr>\n",
       "      <th>1</th>\n",
       "      <td>1</td>\n",
       "      <td>10258</td>\n",
       "      <td>9</td>\n",
       "      <td>1.000000</td>\n",
       "      <td>5.0</td>\n",
       "      <td>10</td>\n",
       "      <td>0.694915</td>\n",
       "      <td>9</td>\n",
       "      <td>1946</td>\n",
       "      <td>0.713772</td>\n",
       "      <td>1.0</td>\n",
       "    </tr>\n",
       "    <tr>\n",
       "      <th>2</th>\n",
       "      <td>1</td>\n",
       "      <td>10326</td>\n",
       "      <td>1</td>\n",
       "      <td>0.166667</td>\n",
       "      <td>0.0</td>\n",
       "      <td>10</td>\n",
       "      <td>0.694915</td>\n",
       "      <td>9</td>\n",
       "      <td>5526</td>\n",
       "      <td>0.652009</td>\n",
       "      <td>0.0</td>\n",
       "    </tr>\n",
       "    <tr>\n",
       "      <th>3</th>\n",
       "      <td>1</td>\n",
       "      <td>12427</td>\n",
       "      <td>10</td>\n",
       "      <td>1.000000</td>\n",
       "      <td>5.0</td>\n",
       "      <td>10</td>\n",
       "      <td>0.694915</td>\n",
       "      <td>9</td>\n",
       "      <td>6476</td>\n",
       "      <td>0.740735</td>\n",
       "      <td>0.0</td>\n",
       "    </tr>\n",
       "    <tr>\n",
       "      <th>4</th>\n",
       "      <td>1</td>\n",
       "      <td>13032</td>\n",
       "      <td>3</td>\n",
       "      <td>0.333333</td>\n",
       "      <td>2.0</td>\n",
       "      <td>10</td>\n",
       "      <td>0.694915</td>\n",
       "      <td>9</td>\n",
       "      <td>3751</td>\n",
       "      <td>0.657158</td>\n",
       "      <td>1.0</td>\n",
       "    </tr>\n",
       "  </tbody>\n",
       "</table>\n",
       "</div>"
      ],
      "text/plain": [
       "   user_id  product_id  ipu_total_bought  uxp_reorder_ratio  times_last5  \\\n",
       "0        1         196                10           1.000000          5.0   \n",
       "1        1       10258                 9           1.000000          5.0   \n",
       "2        1       10326                 1           0.166667          0.0   \n",
       "3        1       12427                10           1.000000          5.0   \n",
       "4        1       13032                 3           0.333333          2.0   \n",
       "\n",
       "   u_total_orders  u_reordered_ratio  last_order_size  items_total_purchases  \\\n",
       "0              10           0.694915                9                  35791   \n",
       "1              10           0.694915                9                   1946   \n",
       "2              10           0.694915                9                   5526   \n",
       "3              10           0.694915                9                   6476   \n",
       "4              10           0.694915                9                   3751   \n",
       "\n",
       "   items_reorder_ratio  reordered  \n",
       "0             0.776480        1.0  \n",
       "1             0.713772        1.0  \n",
       "2             0.652009        0.0  \n",
       "3             0.740735        0.0  \n",
       "4             0.657158        1.0  "
      ]
     },
     "execution_count": 8,
     "metadata": {},
     "output_type": "execute_result"
    }
   ],
   "source": [
    "dataset.head()"
   ]
  },
  {
   "cell_type": "code",
   "execution_count": 9,
   "id": "22faecd9",
   "metadata": {},
   "outputs": [],
   "source": [
    "dataset = dataset.drop(['user_id', 'product_id'], axis=1)"
   ]
  },
  {
   "cell_type": "markdown",
   "id": "def6788d",
   "metadata": {},
   "source": [
    "Разбиение датасета на обучение+валидацию и тест"
   ]
  },
  {
   "cell_type": "code",
   "execution_count": 10,
   "id": "0ac762f6",
   "metadata": {},
   "outputs": [],
   "source": [
    "X_train_val, X_holdout, y_train_val, y_holdout = train_test_split(dataset.drop(['reordered'], axis=1),\n",
    "                                                                          dataset['reordered'].values,\n",
    "                                                                          test_size=0.2,\n",
    "                                                                          shuffle=True,\n",
    "                                                                          random_state=42,\n",
    "                                                                          stratify=dataset['reordered'].values)"
   ]
  },
  {
   "cell_type": "code",
   "execution_count": 11,
   "id": "850ce2eb",
   "metadata": {},
   "outputs": [],
   "source": [
    "features = dataset.drop(['reordered'], axis=1).columns.values"
   ]
  },
  {
   "cell_type": "markdown",
   "id": "f48e9dcd",
   "metadata": {},
   "source": [
    "Подбор гиперпараметров случайным поиском на кросс-валидации"
   ]
  },
  {
   "cell_type": "code",
   "execution_count": null,
   "id": "66508fbc",
   "metadata": {},
   "outputs": [],
   "source": [
    "clf_xgb = xgb.XGBClassifier(objective = 'binary:logistic')\n",
    "param_dist = {'n_estimators': stats.randint(150, 1000),\n",
    "              'learning_rate': stats.uniform(0.01, 0.6),\n",
    "              'subsample': stats.uniform(0.3, 0.9),\n",
    "              'max_depth': [3, 4, 5, 6, 7, 8, 9],\n",
    "              'colsample_bytree': stats.uniform(0.5, 0.9),\n",
    "              'min_child_weight': [1, 2, 3, 4]\n",
    "             }\n",
    "\n",
    "cv_obj = StratifiedKFold(n_splits=5, shuffle=True, random_state=42)\n",
    "\n",
    "clf = RandomizedSearchCV(clf_xgb, param_distributions = param_dist, \n",
    "                         n_iter = 5, scoring = 'f1', error_score = 0, \n",
    "                         verbose = 3, n_jobs = -1)\n",
    "clf.fit(X_train_val[features], y_train_val)\n",
    "print(clf.best_score_)\n",
    "print(clf.best_params_)"
   ]
  },
  {
   "cell_type": "markdown",
   "id": "f8316ad7",
   "metadata": {},
   "source": [
    "Обучение модели"
   ]
  },
  {
   "cell_type": "code",
   "execution_count": 13,
   "id": "0a5c2c97",
   "metadata": {},
   "outputs": [
    {
     "name": "stderr",
     "output_type": "stream",
     "text": [
      "C:\\Users\\vboychuk\\Anaconda3\\lib\\site-packages\\xgboost\\sklearn.py:1146: UserWarning: The use of label encoder in XGBClassifier is deprecated and will be removed in a future release. To remove this warning, do the following: 1) Pass option use_label_encoder=False when constructing XGBClassifier object; and 2) Encode your labels (y) as integers starting with 0, i.e. 0, 1, 2, ..., [num_class - 1].\n",
      "  warnings.warn(label_encoder_deprecation_msg, UserWarning)\n"
     ]
    },
    {
     "name": "stdout",
     "output_type": "stream",
     "text": [
      "[16:02:37] WARNING: C:/Users/Administrator/workspace/xgboost-win64_release_1.4.0/src/learner.cc:573: \n",
      "Parameters: { \"num_boost_round\", \"parameters\" } might not be used.\n",
      "\n",
      "  This may not be accurate due to some parameters are only used in language bindings but\n",
      "  passed down to XGBoost core.  Or some parameters are not used but slip through this\n",
      "  verification. Please open an issue if you find above cases.\n",
      "\n",
      "\n",
      "[16:02:48] WARNING: C:/Users/Administrator/workspace/xgboost-win64_release_1.4.0/src/learner.cc:1095: Starting in XGBoost 1.3.0, the default evaluation metric used with the objective 'binary:logistic' was changed from 'error' to 'logloss'. Explicitly set eval_metric if you'd like to restore the old behavior.\n",
      "Precision train = 0.64; hold_out = 0.63\n",
      "Recall train = 0.17; hold_out = 0.17\n",
      "F1 train = 0.27; hold_out = 0.27\n",
      "ROC_AUC = 0.83\n"
     ]
    }
   ],
   "source": [
    "parameters = {'n_estimators': '200',\n",
    "              'eval_metric':'logloss', \n",
    "              'max_depth':'5', \n",
    "              'colsample_bytree':'0.4',\n",
    "              'subsample':'0.75',\n",
    "              'learning_rate': '0.1',\n",
    "              'min_child_weight': '2'\n",
    "             }\n",
    "\n",
    "xgbc = xgb.XGBClassifier(objective='binary:logistic', parameters=parameters, num_boost_round=10)\n",
    "\n",
    "model = xgbc.fit(X_train_val, y_train_val)\n",
    "y_pred_train = model.predict(X_train_val[features])\n",
    "precision_value_tr = precision_score(y_train_val, y_pred_train)\n",
    "recall_value_tr = recall_score(y_train_val, y_pred_train)\n",
    "f1_score_value_tr = f1_score(y_train_val, y_pred_train)\n",
    "\n",
    "y_pred_proba = model.predict_proba(X_holdout[features])\n",
    "y_pred = model.predict(X_holdout[features])\n",
    "\n",
    "precision_value = precision_score(y_holdout, y_pred)\n",
    "recall_value = recall_score(y_holdout, y_pred)\n",
    "f1_score_value = f1_score(y_holdout, y_pred)\n",
    "roc_auc_score_value = roc_auc_score(y_holdout, y_pred_proba[:, 1])\n",
    "\n",
    "print('Precision train = {0:.2f}; hold_out = {1:.2f}'.format(precision_value_tr, precision_value))\n",
    "print('Recall train = {0:.2f}; hold_out = {1:.2f}'.format(recall_value_tr, recall_value))\n",
    "print('F1 train = {0:.2f}; hold_out = {1:.2f}'.format(f1_score_value_tr, f1_score_value))\n",
    "print('ROC_AUC = {0:.2f}'.format(roc_auc_score_value))"
   ]
  },
  {
   "cell_type": "markdown",
   "id": "76dd9072",
   "metadata": {},
   "source": [
    "Получение скора для тренировочной выборки"
   ]
  },
  {
   "cell_type": "code",
   "execution_count": 18,
   "id": "78cd9639",
   "metadata": {},
   "outputs": [],
   "source": [
    "y_pred_proba_train = model.predict_proba(X_train_val[features])"
   ]
  },
  {
   "cell_type": "markdown",
   "id": "741ee379",
   "metadata": {},
   "source": [
    "Подбор порога опредления границы класса"
   ]
  },
  {
   "cell_type": "code",
   "execution_count": 20,
   "id": "807ba355",
   "metadata": {},
   "outputs": [
    {
     "name": "stdout",
     "output_type": "stream",
     "text": [
      "T=0.1\n",
      "Precision train = 0.25; hold_out = 0.25\n",
      "Recall train = 0.74; hold_out = 0.74\n",
      "F1 train = 0.38; hold_out = 0.37\n",
      "===========\n",
      "T=0.2\n",
      "Precision train = 0.37; hold_out = 0.37\n",
      "Recall train = 0.52; hold_out = 0.52\n",
      "F1 train = 0.43; hold_out = 0.43\n",
      "===========\n",
      "T=0.30000000000000004\n",
      "Precision train = 0.47; hold_out = 0.47\n",
      "Recall train = 0.37; hold_out = 0.37\n",
      "F1 train = 0.42; hold_out = 0.41\n",
      "===========\n",
      "T=0.4\n",
      "Precision train = 0.56; hold_out = 0.56\n",
      "Recall train = 0.26; hold_out = 0.25\n",
      "F1 train = 0.35; hold_out = 0.35\n",
      "===========\n",
      "T=0.5\n",
      "Precision train = 0.64; hold_out = 0.63\n",
      "Recall train = 0.17; hold_out = 0.17\n",
      "F1 train = 0.27; hold_out = 0.27\n",
      "===========\n",
      "T=0.6\n",
      "Precision train = 0.71; hold_out = 0.71\n",
      "Recall train = 0.10; hold_out = 0.10\n",
      "F1 train = 0.18; hold_out = 0.18\n",
      "===========\n",
      "T=0.7000000000000001\n",
      "Precision train = 0.79; hold_out = 0.78\n",
      "Recall train = 0.05; hold_out = 0.05\n",
      "F1 train = 0.10; hold_out = 0.09\n",
      "===========\n",
      "T=0.8\n",
      "Precision train = 0.86; hold_out = 0.84\n",
      "Recall train = 0.02; hold_out = 0.02\n",
      "F1 train = 0.03; hold_out = 0.03\n",
      "===========\n",
      "T=0.9\n",
      "Precision train = 0.97; hold_out = 0.93\n",
      "Recall train = 0.00; hold_out = 0.00\n",
      "F1 train = 0.00; hold_out = 0.00\n",
      "===========\n"
     ]
    }
   ],
   "source": [
    "for t in np.linspace(0.1, 0.9, num=9):\n",
    "    y_pred_train = [1 if x >= t else 0 for x in y_pred_proba_train[:, 1]]\n",
    "    precision_value_tr = precision_score(y_train_val, y_pred_train)\n",
    "    recall_value_tr = recall_score(y_train_val, y_pred_train)\n",
    "    f1_score_value_tr = f1_score(y_train_val, y_pred_train)\n",
    "    \n",
    "    y_pred = [1 if x >= t else 0 for x in y_pred_proba[:, 1]]\n",
    "    precision_value = precision_score(y_holdout, y_pred)\n",
    "    recall_value = recall_score(y_holdout, y_pred)\n",
    "    f1_score_value = f1_score(y_holdout, y_pred)\n",
    "    print('T={}'.format(t))\n",
    "    print('Precision train = {0:.2f}; hold_out = {1:.2f}'.format(precision_value_tr, precision_value))\n",
    "    print('Recall train = {0:.2f}; hold_out = {1:.2f}'.format(recall_value_tr, recall_value))\n",
    "    print('F1 train = {0:.2f}; hold_out = {1:.2f}'.format(f1_score_value_tr, f1_score_value))\n",
    "    print('===========')"
   ]
  },
  {
   "cell_type": "markdown",
   "id": "74fa8883",
   "metadata": {},
   "source": [
    "Обучение модели на всем тренировочном наборе"
   ]
  },
  {
   "cell_type": "code",
   "execution_count": 21,
   "id": "ad000a9b",
   "metadata": {},
   "outputs": [],
   "source": [
    "parameters = {'n_estimators': '200',\n",
    "              'eval_metric':'logloss', \n",
    "              'max_depth':'5', \n",
    "              'colsample_bytree':'0.4',\n",
    "              'subsample':'0.75',\n",
    "              'learning_rate': '0.1',\n",
    "              'min_child_weight': '2'\n",
    "             }\n",
    "\n",
    "xgbc = xgb.XGBClassifier(objective='binary:logistic', parameters=parameters, num_boost_round=10)"
   ]
  },
  {
   "cell_type": "code",
   "execution_count": 22,
   "id": "54b0ff4d",
   "metadata": {},
   "outputs": [
    {
     "name": "stderr",
     "output_type": "stream",
     "text": [
      "C:\\Users\\vboychuk\\Anaconda3\\lib\\site-packages\\xgboost\\sklearn.py:1146: UserWarning: The use of label encoder in XGBClassifier is deprecated and will be removed in a future release. To remove this warning, do the following: 1) Pass option use_label_encoder=False when constructing XGBClassifier object; and 2) Encode your labels (y) as integers starting with 0, i.e. 0, 1, 2, ..., [num_class - 1].\n",
      "  warnings.warn(label_encoder_deprecation_msg, UserWarning)\n"
     ]
    },
    {
     "name": "stdout",
     "output_type": "stream",
     "text": [
      "[17:05:06] WARNING: C:/Users/Administrator/workspace/xgboost-win64_release_1.4.0/src/learner.cc:573: \n",
      "Parameters: { \"num_boost_round\", \"parameters\" } might not be used.\n",
      "\n",
      "  This may not be accurate due to some parameters are only used in language bindings but\n",
      "  passed down to XGBoost core.  Or some parameters are not used but slip through this\n",
      "  verification. Please open an issue if you find above cases.\n",
      "\n",
      "\n",
      "[17:05:15] WARNING: C:/Users/Administrator/workspace/xgboost-win64_release_1.4.0/src/learner.cc:1095: Starting in XGBoost 1.3.0, the default evaluation metric used with the objective 'binary:logistic' was changed from 'error' to 'logloss'. Explicitly set eval_metric if you'd like to restore the old behavior.\n"
     ]
    }
   ],
   "source": [
    "model = xgbc.fit(dataset.drop(['reordered'], axis=1), dataset['reordered'].values)"
   ]
  },
  {
   "cell_type": "code",
   "execution_count": 23,
   "id": "588314a8",
   "metadata": {},
   "outputs": [],
   "source": [
    "test_dataset = pd.read_csv(data_path + 'test_dataset.csv')"
   ]
  },
  {
   "cell_type": "code",
   "execution_count": 25,
   "id": "58d452e7",
   "metadata": {},
   "outputs": [],
   "source": [
    "y_pred_proba_test = model.predict_proba(test_dataset[features])"
   ]
  },
  {
   "cell_type": "code",
   "execution_count": 26,
   "id": "d863e75d",
   "metadata": {},
   "outputs": [],
   "source": [
    "y_pred_test = [1 if x >= 0.25 else 0 for x in y_pred_proba_test[:, 1]]"
   ]
  },
  {
   "cell_type": "code",
   "execution_count": 27,
   "id": "d84f1168",
   "metadata": {},
   "outputs": [],
   "source": [
    "test_dataset['prediction'] = y_pred_test"
   ]
  },
  {
   "cell_type": "code",
   "execution_count": 28,
   "id": "f219f392",
   "metadata": {},
   "outputs": [
    {
     "data": {
      "text/html": [
       "<div>\n",
       "<style scoped>\n",
       "    .dataframe tbody tr th:only-of-type {\n",
       "        vertical-align: middle;\n",
       "    }\n",
       "\n",
       "    .dataframe tbody tr th {\n",
       "        vertical-align: top;\n",
       "    }\n",
       "\n",
       "    .dataframe thead th {\n",
       "        text-align: right;\n",
       "    }\n",
       "</style>\n",
       "<table border=\"1\" class=\"dataframe\">\n",
       "  <thead>\n",
       "    <tr style=\"text-align: right;\">\n",
       "      <th></th>\n",
       "      <th>user_id</th>\n",
       "      <th>product_id</th>\n",
       "      <th>ipu_total_bought</th>\n",
       "      <th>uxp_reorder_ratio</th>\n",
       "      <th>times_last5</th>\n",
       "      <th>u_total_orders</th>\n",
       "      <th>u_reordered_ratio</th>\n",
       "      <th>last_order_size</th>\n",
       "      <th>items_total_purchases</th>\n",
       "      <th>items_reorder_ratio</th>\n",
       "      <th>prediction</th>\n",
       "    </tr>\n",
       "  </thead>\n",
       "  <tbody>\n",
       "    <tr>\n",
       "      <th>0</th>\n",
       "      <td>3</td>\n",
       "      <td>248</td>\n",
       "      <td>1</td>\n",
       "      <td>0.090909</td>\n",
       "      <td>0.0</td>\n",
       "      <td>12</td>\n",
       "      <td>0.625</td>\n",
       "      <td>6</td>\n",
       "      <td>6371</td>\n",
       "      <td>0.400251</td>\n",
       "      <td>0</td>\n",
       "    </tr>\n",
       "    <tr>\n",
       "      <th>1</th>\n",
       "      <td>3</td>\n",
       "      <td>1005</td>\n",
       "      <td>1</td>\n",
       "      <td>0.333333</td>\n",
       "      <td>1.0</td>\n",
       "      <td>12</td>\n",
       "      <td>0.625</td>\n",
       "      <td>6</td>\n",
       "      <td>463</td>\n",
       "      <td>0.440605</td>\n",
       "      <td>0</td>\n",
       "    </tr>\n",
       "    <tr>\n",
       "      <th>2</th>\n",
       "      <td>3</td>\n",
       "      <td>1819</td>\n",
       "      <td>3</td>\n",
       "      <td>0.333333</td>\n",
       "      <td>0.0</td>\n",
       "      <td>12</td>\n",
       "      <td>0.625</td>\n",
       "      <td>6</td>\n",
       "      <td>2424</td>\n",
       "      <td>0.492162</td>\n",
       "      <td>0</td>\n",
       "    </tr>\n",
       "    <tr>\n",
       "      <th>3</th>\n",
       "      <td>3</td>\n",
       "      <td>7503</td>\n",
       "      <td>1</td>\n",
       "      <td>0.100000</td>\n",
       "      <td>0.0</td>\n",
       "      <td>12</td>\n",
       "      <td>0.625</td>\n",
       "      <td>6</td>\n",
       "      <td>12474</td>\n",
       "      <td>0.553551</td>\n",
       "      <td>0</td>\n",
       "    </tr>\n",
       "    <tr>\n",
       "      <th>4</th>\n",
       "      <td>3</td>\n",
       "      <td>8021</td>\n",
       "      <td>1</td>\n",
       "      <td>0.090909</td>\n",
       "      <td>0.0</td>\n",
       "      <td>12</td>\n",
       "      <td>0.625</td>\n",
       "      <td>6</td>\n",
       "      <td>27864</td>\n",
       "      <td>0.591157</td>\n",
       "      <td>0</td>\n",
       "    </tr>\n",
       "  </tbody>\n",
       "</table>\n",
       "</div>"
      ],
      "text/plain": [
       "   user_id  product_id  ipu_total_bought  uxp_reorder_ratio  times_last5  \\\n",
       "0        3         248                 1           0.090909          0.0   \n",
       "1        3        1005                 1           0.333333          1.0   \n",
       "2        3        1819                 3           0.333333          0.0   \n",
       "3        3        7503                 1           0.100000          0.0   \n",
       "4        3        8021                 1           0.090909          0.0   \n",
       "\n",
       "   u_total_orders  u_reordered_ratio  last_order_size  items_total_purchases  \\\n",
       "0              12              0.625                6                   6371   \n",
       "1              12              0.625                6                    463   \n",
       "2              12              0.625                6                   2424   \n",
       "3              12              0.625                6                  12474   \n",
       "4              12              0.625                6                  27864   \n",
       "\n",
       "   items_reorder_ratio  prediction  \n",
       "0             0.400251           0  \n",
       "1             0.440605           0  \n",
       "2             0.492162           0  \n",
       "3             0.553551           0  \n",
       "4             0.591157           0  "
      ]
     },
     "execution_count": 28,
     "metadata": {},
     "output_type": "execute_result"
    }
   ],
   "source": [
    "test_dataset.head()"
   ]
  },
  {
   "cell_type": "code",
   "execution_count": 29,
   "id": "e17a51fe",
   "metadata": {},
   "outputs": [],
   "source": [
    "submit_data = test_dataset[['product_id', 'user_id', 'prediction']]"
   ]
  },
  {
   "cell_type": "code",
   "execution_count": 30,
   "id": "2238beff",
   "metadata": {},
   "outputs": [],
   "source": [
    "orders = pd.read_csv(data_path + 'orders.csv' )"
   ]
  },
  {
   "cell_type": "code",
   "execution_count": 31,
   "id": "54e36a05",
   "metadata": {},
   "outputs": [
    {
     "data": {
      "text/html": [
       "<div>\n",
       "<style scoped>\n",
       "    .dataframe tbody tr th:only-of-type {\n",
       "        vertical-align: middle;\n",
       "    }\n",
       "\n",
       "    .dataframe tbody tr th {\n",
       "        vertical-align: top;\n",
       "    }\n",
       "\n",
       "    .dataframe thead th {\n",
       "        text-align: right;\n",
       "    }\n",
       "</style>\n",
       "<table border=\"1\" class=\"dataframe\">\n",
       "  <thead>\n",
       "    <tr style=\"text-align: right;\">\n",
       "      <th></th>\n",
       "      <th>user_id</th>\n",
       "      <th>order_id</th>\n",
       "    </tr>\n",
       "  </thead>\n",
       "  <tbody>\n",
       "    <tr>\n",
       "      <th>38</th>\n",
       "      <td>3</td>\n",
       "      <td>2774568</td>\n",
       "    </tr>\n",
       "    <tr>\n",
       "      <th>44</th>\n",
       "      <td>4</td>\n",
       "      <td>329954</td>\n",
       "    </tr>\n",
       "    <tr>\n",
       "      <th>53</th>\n",
       "      <td>6</td>\n",
       "      <td>1528013</td>\n",
       "    </tr>\n",
       "    <tr>\n",
       "      <th>96</th>\n",
       "      <td>11</td>\n",
       "      <td>1376945</td>\n",
       "    </tr>\n",
       "    <tr>\n",
       "      <th>102</th>\n",
       "      <td>12</td>\n",
       "      <td>1356845</td>\n",
       "    </tr>\n",
       "  </tbody>\n",
       "</table>\n",
       "</div>"
      ],
      "text/plain": [
       "     user_id  order_id\n",
       "38         3   2774568\n",
       "44         4    329954\n",
       "53         6   1528013\n",
       "96        11   1376945\n",
       "102       12   1356845"
      ]
     },
     "execution_count": 31,
     "metadata": {},
     "output_type": "execute_result"
    }
   ],
   "source": [
    "orders_test = orders.loc[orders.eval_set=='test',(\"user_id\", \"order_id\") ]\n",
    "orders_test.head()"
   ]
  },
  {
   "cell_type": "code",
   "execution_count": 32,
   "id": "2045efcc",
   "metadata": {},
   "outputs": [
    {
     "data": {
      "text/html": [
       "<div>\n",
       "<style scoped>\n",
       "    .dataframe tbody tr th:only-of-type {\n",
       "        vertical-align: middle;\n",
       "    }\n",
       "\n",
       "    .dataframe tbody tr th {\n",
       "        vertical-align: top;\n",
       "    }\n",
       "\n",
       "    .dataframe thead th {\n",
       "        text-align: right;\n",
       "    }\n",
       "</style>\n",
       "<table border=\"1\" class=\"dataframe\">\n",
       "  <thead>\n",
       "    <tr style=\"text-align: right;\">\n",
       "      <th></th>\n",
       "      <th>product_id</th>\n",
       "      <th>user_id</th>\n",
       "      <th>prediction</th>\n",
       "      <th>order_id</th>\n",
       "    </tr>\n",
       "  </thead>\n",
       "  <tbody>\n",
       "    <tr>\n",
       "      <th>0</th>\n",
       "      <td>248</td>\n",
       "      <td>3</td>\n",
       "      <td>0</td>\n",
       "      <td>2774568</td>\n",
       "    </tr>\n",
       "    <tr>\n",
       "      <th>1</th>\n",
       "      <td>1005</td>\n",
       "      <td>3</td>\n",
       "      <td>0</td>\n",
       "      <td>2774568</td>\n",
       "    </tr>\n",
       "    <tr>\n",
       "      <th>2</th>\n",
       "      <td>1819</td>\n",
       "      <td>3</td>\n",
       "      <td>0</td>\n",
       "      <td>2774568</td>\n",
       "    </tr>\n",
       "    <tr>\n",
       "      <th>3</th>\n",
       "      <td>7503</td>\n",
       "      <td>3</td>\n",
       "      <td>0</td>\n",
       "      <td>2774568</td>\n",
       "    </tr>\n",
       "    <tr>\n",
       "      <th>4</th>\n",
       "      <td>8021</td>\n",
       "      <td>3</td>\n",
       "      <td>0</td>\n",
       "      <td>2774568</td>\n",
       "    </tr>\n",
       "  </tbody>\n",
       "</table>\n",
       "</div>"
      ],
      "text/plain": [
       "   product_id  user_id  prediction  order_id\n",
       "0         248        3           0   2774568\n",
       "1        1005        3           0   2774568\n",
       "2        1819        3           0   2774568\n",
       "3        7503        3           0   2774568\n",
       "4        8021        3           0   2774568"
      ]
     },
     "execution_count": 32,
     "metadata": {},
     "output_type": "execute_result"
    }
   ],
   "source": [
    "submit_data = submit_data.merge(orders_test, on='user_id', how='left')\n",
    "submit_data.head()"
   ]
  },
  {
   "cell_type": "code",
   "execution_count": 33,
   "id": "d445f25c",
   "metadata": {},
   "outputs": [],
   "source": [
    "submit_data = submit_data.drop('user_id', axis=1)"
   ]
  },
  {
   "cell_type": "code",
   "execution_count": 34,
   "id": "c6d5c987",
   "metadata": {},
   "outputs": [],
   "source": [
    "submit_data['product_id'] = submit_data['product_id'].astype(int)"
   ]
  },
  {
   "cell_type": "code",
   "execution_count": 35,
   "id": "665de1f8",
   "metadata": {},
   "outputs": [
    {
     "data": {
      "text/html": [
       "<div>\n",
       "<style scoped>\n",
       "    .dataframe tbody tr th:only-of-type {\n",
       "        vertical-align: middle;\n",
       "    }\n",
       "\n",
       "    .dataframe tbody tr th {\n",
       "        vertical-align: top;\n",
       "    }\n",
       "\n",
       "    .dataframe thead th {\n",
       "        text-align: right;\n",
       "    }\n",
       "</style>\n",
       "<table border=\"1\" class=\"dataframe\">\n",
       "  <thead>\n",
       "    <tr style=\"text-align: right;\">\n",
       "      <th></th>\n",
       "      <th>product_id</th>\n",
       "      <th>prediction</th>\n",
       "      <th>order_id</th>\n",
       "    </tr>\n",
       "  </thead>\n",
       "  <tbody>\n",
       "    <tr>\n",
       "      <th>0</th>\n",
       "      <td>248</td>\n",
       "      <td>0</td>\n",
       "      <td>2774568</td>\n",
       "    </tr>\n",
       "    <tr>\n",
       "      <th>1</th>\n",
       "      <td>1005</td>\n",
       "      <td>0</td>\n",
       "      <td>2774568</td>\n",
       "    </tr>\n",
       "    <tr>\n",
       "      <th>2</th>\n",
       "      <td>1819</td>\n",
       "      <td>0</td>\n",
       "      <td>2774568</td>\n",
       "    </tr>\n",
       "    <tr>\n",
       "      <th>3</th>\n",
       "      <td>7503</td>\n",
       "      <td>0</td>\n",
       "      <td>2774568</td>\n",
       "    </tr>\n",
       "    <tr>\n",
       "      <th>4</th>\n",
       "      <td>8021</td>\n",
       "      <td>0</td>\n",
       "      <td>2774568</td>\n",
       "    </tr>\n",
       "  </tbody>\n",
       "</table>\n",
       "</div>"
      ],
      "text/plain": [
       "   product_id  prediction  order_id\n",
       "0         248           0   2774568\n",
       "1        1005           0   2774568\n",
       "2        1819           0   2774568\n",
       "3        7503           0   2774568\n",
       "4        8021           0   2774568"
      ]
     },
     "execution_count": 35,
     "metadata": {},
     "output_type": "execute_result"
    }
   ],
   "source": [
    "submit_data.head()"
   ]
  },
  {
   "cell_type": "markdown",
   "id": "d65ac15f",
   "metadata": {},
   "source": [
    "Формирование сабмита"
   ]
  },
  {
   "cell_type": "code",
   "execution_count": 37,
   "id": "66f71e0d",
   "metadata": {},
   "outputs": [],
   "source": [
    "d = dict()\n",
    "for row in submit_data.itertuples():\n",
    "    if row.prediction== 1:\n",
    "        try:\n",
    "            d[row.order_id] += ' ' + str(row.product_id)\n",
    "        except:\n",
    "            d[row.order_id] = str(row.product_id)\n",
    "\n",
    "for order in submit_data.order_id:\n",
    "    if order not in d:\n",
    "        d[order] = 'None'"
   ]
  },
  {
   "cell_type": "code",
   "execution_count": 38,
   "id": "c2ad7b55",
   "metadata": {},
   "outputs": [
    {
     "data": {
      "text/html": [
       "<div>\n",
       "<style scoped>\n",
       "    .dataframe tbody tr th:only-of-type {\n",
       "        vertical-align: middle;\n",
       "    }\n",
       "\n",
       "    .dataframe tbody tr th {\n",
       "        vertical-align: top;\n",
       "    }\n",
       "\n",
       "    .dataframe thead th {\n",
       "        text-align: right;\n",
       "    }\n",
       "</style>\n",
       "<table border=\"1\" class=\"dataframe\">\n",
       "  <thead>\n",
       "    <tr style=\"text-align: right;\">\n",
       "      <th></th>\n",
       "      <th>order_id</th>\n",
       "      <th>products</th>\n",
       "    </tr>\n",
       "  </thead>\n",
       "  <tbody>\n",
       "    <tr>\n",
       "      <th>0</th>\n",
       "      <td>2774568</td>\n",
       "      <td>17668 18599 21903 39190 43961 47766</td>\n",
       "    </tr>\n",
       "    <tr>\n",
       "      <th>1</th>\n",
       "      <td>1528013</td>\n",
       "      <td>21903</td>\n",
       "    </tr>\n",
       "    <tr>\n",
       "      <th>2</th>\n",
       "      <td>1376945</td>\n",
       "      <td>8309 13176 14947 27959 28465 34658 35948 44632</td>\n",
       "    </tr>\n",
       "    <tr>\n",
       "      <th>3</th>\n",
       "      <td>1356845</td>\n",
       "      <td>7076 10863 13176 14992</td>\n",
       "    </tr>\n",
       "    <tr>\n",
       "      <th>4</th>\n",
       "      <td>2161313</td>\n",
       "      <td>196 12427 14715 27839 37710</td>\n",
       "    </tr>\n",
       "  </tbody>\n",
       "</table>\n",
       "</div>"
      ],
      "text/plain": [
       "   order_id                                        products\n",
       "0   2774568             17668 18599 21903 39190 43961 47766\n",
       "1   1528013                                           21903\n",
       "2   1376945  8309 13176 14947 27959 28465 34658 35948 44632\n",
       "3   1356845                          7076 10863 13176 14992\n",
       "4   2161313                     196 12427 14715 27839 37710"
      ]
     },
     "execution_count": 38,
     "metadata": {},
     "output_type": "execute_result"
    }
   ],
   "source": [
    "sub = pd.DataFrame.from_dict(d, orient='index')\n",
    "\n",
    "#Reset index\n",
    "sub.reset_index(inplace=True)\n",
    "#Set column names\n",
    "sub.columns = ['order_id', 'products']\n",
    "\n",
    "sub.head()"
   ]
  },
  {
   "cell_type": "code",
   "execution_count": 39,
   "id": "c4b305ed",
   "metadata": {},
   "outputs": [
    {
     "data": {
      "text/plain": [
       "(75000, 2)"
      ]
     },
     "execution_count": 39,
     "metadata": {},
     "output_type": "execute_result"
    }
   ],
   "source": [
    "sub.shape"
   ]
  },
  {
   "cell_type": "code",
   "execution_count": 40,
   "id": "18431dd4",
   "metadata": {},
   "outputs": [],
   "source": [
    "sub.to_csv(data_path + 'submissions\\\\xgb.csv', index=False)"
   ]
  },
  {
   "cell_type": "markdown",
   "id": "ac966408",
   "metadata": {},
   "source": [
    "Полученный результат этого сабмита: 0.36653 Public; 0.36335 Private"
   ]
  },
  {
   "cell_type": "code",
   "execution_count": null,
   "id": "05967e8d",
   "metadata": {},
   "outputs": [],
   "source": []
  }
 ],
 "metadata": {
  "kernelspec": {
   "display_name": "Python 3",
   "language": "python",
   "name": "python3"
  },
  "language_info": {
   "codemirror_mode": {
    "name": "ipython",
    "version": 3
   },
   "file_extension": ".py",
   "mimetype": "text/x-python",
   "name": "python",
   "nbconvert_exporter": "python",
   "pygments_lexer": "ipython3",
   "version": "3.8.5"
  }
 },
 "nbformat": 4,
 "nbformat_minor": 5
}
